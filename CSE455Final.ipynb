{
  "nbformat": 4,
  "nbformat_minor": 0,
  "metadata": {
    "colab": {
      "name": "CSE455Final.ipynb",
      "provenance": [],
      "collapsed_sections": [
        "98OVbm67i666",
        "pwk5xb1Mowih"
      ]
    },
    "kernelspec": {
      "name": "python3",
      "display_name": "Python 3"
    },
    "language_info": {
      "name": "python"
    },
    "accelerator": "TPU"
  },
  "cells": [
    {
      "cell_type": "markdown",
      "source": [
        "#Project Description \n",
        "All aspects of this project are run locally on my own personal machine through a local runtime connection with Google Colab and Juypter-notebook. The code presented here is not usable by everyone because the paths and imports may be different depending on disk setup and machine. \\\n",
        "\n",
        "Author: Arpanpal Singh \\\n",
        "Kaggle User: Arpanpal Singh \\\n",
        "UW NetId: Arpans@uw.edu\n",
        "\n",
        "## Project Goals \n",
        "This project is in line with CSE 455 spring 2022 kaggle competition. The premise is to use advanced computer vision and machine learning on the provided kaggle birds dataset to accurately classify bird specifies. The training set consists of 10,000 pictures with varying dimensions. The test set consists of 1,000 pictures with varying dimensions. There are a total of 555 different possible specifies for each picture. \n",
        "\n",
        "## Underlying PC Specifications\n",
        "AMD Ryzen 7 5800X 8-Core Processor 3.80 GHz \\\n",
        "EVGA FTW3 NVIDIA Geforce RTX 3080 w/ 8704 CUDA Cores \\\n",
        "Corsair Vengeance DDR4 32gb RAM\n",
        "\n",
        "\n",
        "## Code summary\n",
        "\n",
        "Large portions of the code are from the tutorial code, as they worked perfectly fine for me as they were. Specifcally, the train and predict functions are nearly identical. The vast majority of the workload was researching, training, and testing the many different models I used. I use pytorch and torchvision for almost everything important in the project. All models are from the torchvision library.\n",
        "\n",
        "All the code for setting up the environment locally is written by me. I did not use code from any pre-existing githubs. Only from tutorials provided by the professor, and my own implementations when necessary."
      ],
      "metadata": {
        "id": "ebNNLJeeX9ZE"
      }
    },
    {
      "cell_type": "markdown",
      "source": [
        "#1) Intialization \n",
        "\n",
        "The following are all the intialization steps necessary to run the project locally. They are heavily influenced and pieced together from the tutorial, however modified so as to work on my personal setup. The paths and things alike would/can be very different depending on whose running the project."
      ],
      "metadata": {
        "id": "udFgHYDezA9b"
      }
    },
    {
      "cell_type": "markdown",
      "source": [
        "### 1.1) Directory Creation \n",
        "\n",
        "Since we are working locally, it is important to create or navigate to the correct directories before we start running Python code. \\\n",
        "\n",
        "First we import the OS module of Python, which allows us to work with the underlying OS system. We create the birds22sp directory, if it doesn't exist already, and download the datasets necessary for the training and testing. We also create the checkpoints directory which is necessary for remembering training for our different networks. \\\n",
        "\n",
        "Working locally means that I do not have to download the dataset multiple times. Once it's on my machine, I can train and run on it whenever I want. The checkpoints directory, which in the original code was in my Google drive, is now a part of the birds22sp directory and the path slightly modified."
      ],
      "metadata": {
        "id": "98OVbm67i666"
      }
    },
    {
      "cell_type": "code",
      "source": [
        "import os\n",
        "os.environ[\"CUDA_LAUNCH_BLOCKING\"] = \"1\"\n",
        "\n",
        "# Verify current working directory, and move to Desktop \n",
        "print(\"The current working directory is: \" + os.getcwd())\n",
        "os.chdir(\"/Users/Arpan/Desktop\") #Move to Desktop, which is where the project files will be stored\n",
        "print(\"Moved working directory to: \" + os.getcwd())\n",
        "\n",
        "# Verify that birds21wi folder exists\n",
        "if not os.path.exists(\"birds22sp\"):\n",
        "    !mkdir birds22sp\n",
        "    os.chdir(\"birds22sp\")\n",
        "    !python3 -m wget https://pjreddie.com/media/files/birds/train.tar\n",
        "    !python3 -m wget https://pjreddie.com/media/files/birds/test.tar\n",
        "    !python3 -m wget https://pjreddie.com/media/files/birds/names.txt\n",
        "    !tar xf train.tar\n",
        "    !tar xf test.tar\n",
        "    !mkdir testing\n",
        "    !move test testing\n",
        "    print(\"birds22sp has been installed to:\" + os.getcwd())\n",
        "    print(\"Moved working directory to: \" + os.getcwd())\n",
        "else:\n",
        "  os.chdir(\"birds22sp\")\n",
        "  print(\"birds22sp was already installed at: \" + os.getcwd())\n",
        "  print(\"Moved working directory to: \" + os.getcwd())\n",
        "\n",
        "# Create the checkpoints folder \n",
        "checkpoints = '/Users/Arpan/Desktop/birds22sp/content/checkpoints/'\n",
        "if not os.path.exists(checkpoints):\n",
        "    os.makedirs(checkpoints)\n",
        "    print(\"Made checkpoints directory\")"
      ],
      "metadata": {
        "colab": {
          "base_uri": "https://localhost:8080/"
        },
        "id": "buWhji8Hik8-",
        "outputId": "94769b48-491f-4dc0-dac7-a72d9d2f6445"
      },
      "execution_count": 3,
      "outputs": [
        {
          "output_type": "stream",
          "name": "stdout",
          "text": [
            "The current working directory is: C:\\Users\\Arpan\\Desktop\\birds22sp\n",
            "Moved working directory to: C:\\Users\\Arpan\\Desktop\n",
            "birds21wi was already installed at: C:\\Users\\Arpan\\Desktop\\birds22sp\n",
            "Moved working directory to: C:\\Users\\Arpan\\Desktop\\birds22sp\n"
          ]
        }
      ]
    },
    {
      "cell_type": "markdown",
      "source": [
        "### 1.2 Imports & GPU intialization \n",
        "\n",
        "Now we can start running Python to start building our project. The project HEAVILY uses Pythons torch libraries, so it is important that we import all of them. I also have a powerful GPU in my personal machine, so it's optimal to set the torch device to  use the GPU and cuda cores inside it. \\\n",
        "\n",
        "NOTE: I had to spent 1-2 hours setting up CUDA for my GPU as the process for confusing to me, as well as install Pytorch locally."
      ],
      "metadata": {
        "id": "pwk5xb1Mowih"
      }
    },
    {
      "cell_type": "code",
      "execution_count": 4,
      "metadata": {
        "colab": {
          "base_uri": "https://localhost:8080/"
        },
        "id": "AvElVWmEa3IP",
        "outputId": "29b30227-53d4-4d9f-b25d-0ad3a3ad92aa"
      },
      "outputs": [
        {
          "output_type": "stream",
          "name": "stdout",
          "text": [
            "cuda:0\n"
          ]
        }
      ],
      "source": [
        "import numpy as np\n",
        "import matplotlib.pyplot as plt\n",
        "\n",
        "import torch\n",
        "import torchvision\n",
        "import torchvision.transforms as transforms\n",
        "import torch.nn as nn\n",
        "import torch.nn.functional as F\n",
        "import torch.optim as optim\n",
        "\n",
        "device = torch.device(\"cuda:0\" if torch.cuda.is_available() else \"cpu\")\n",
        "# Output the device (Should be Cuda:0 if cuda is installed)\n",
        "print(device)"
      ]
    },
    {
      "cell_type": "markdown",
      "source": [
        "# 2) Data Initialization \n",
        "\n",
        "The data is initialized into tensors so that we can train with it. \\\n",
        "\n",
        "This is one of the most important aspects of the code, as how we choose to agument and intialize the testing and training sets HEAVILY influence the end accuracy of the model, as well as the amount of memory/GPU usage the code needs. \\\n",
        "\n",
        "In the training set, the images are resized to one of a few different pixel dimensions, then randomly cropped, and flipped horizontally. \\\n",
        "\n",
        "In the testing set, the images are simply resized to the same pixel dimension, but kept otherwise the same. \\\n",
        "\n",
        "The different dimensions I tested with:\n",
        "`(128x128), (256x256), (288x288), (384x384)`\n",
        "\n",
        "Another very aspect of the code is the batch size in the training set. The batch size essentially determins how many pictures the code is able to train on at 1 time. The higher the batch size, the most memory it takes, but the faster the network runs. I useed the following batch sizes depending on the memory load: `32, 64, 128`."
      ],
      "metadata": {
        "id": "9OkoqXD0D87w"
      }
    },
    {
      "cell_type": "code",
      "source": [
        "def get_bird_data(augmentation=0):\n",
        "    transform_train = transforms.Compose([\n",
        "        transforms.Resize(384),\n",
        "        transforms.RandomCrop(384, padding=8, padding_mode='edge'), # Take crops from padded images\n",
        "        transforms.RandomHorizontalFlip(),    # 50% of time flip image along y-axis\n",
        "        transforms.ToTensor(),\n",
        "    ])\n",
        "    \n",
        "    transform_test = transforms.Compose([\n",
        "        transforms.Resize(384),\n",
        "        transforms.ToTensor(),\n",
        "    ])\n",
        "    trainset = torchvision.datasets.ImageFolder(root='train', transform=transform_train)\n",
        "    trainloader = torch.utils.data.DataLoader(trainset, batch_size=32, shuffle=True, num_workers=2)\n",
        "\n",
        "    testset = torchvision.datasets.ImageFolder(root='testing', transform=transform_test)\n",
        "    testloader = torch.utils.data.DataLoader(testset, batch_size=1, shuffle=False, num_workers=2)\n",
        "    classes = open(\"names.txt\").read().strip().split(\"\\n\")\n",
        "    class_to_idx = trainset.class_to_idx\n",
        "    idx_to_class = {int(v): int(k) for k, v in class_to_idx.items()}\n",
        "    idx_to_name = {k: classes[v] for k,v in idx_to_class.items()}\n",
        "    return {'train': trainloader, 'test': testloader, 'to_class': idx_to_class, 'to_name':idx_to_name}\n",
        "\n",
        "data = get_bird_data()"
      ],
      "metadata": {
        "id": "xz8MPns32VrC"
      },
      "execution_count": 5,
      "outputs": []
    },
    {
      "cell_type": "markdown",
      "source": [
        "# 3) Training Defintion  \n",
        "\n",
        "The following code is used to train. The `train` function takes as input the `net` to train and the `dataloader` for the training data. It also takes some optional parameters to control training.\n",
        "\n",
        "For this network I'll be using PyTorch's built in `nn.CrossEntropyLoss`. This will apply a softmax to our network's output, calculate the log-probability assigned to each class, then try to minimize the negative log likelihood of our data (AKA maximize the likelihood). This loss function is optimal for multi-class classifications like the birds data.\n",
        "\n",
        "For the optimizer I am using stochastic gradient descent with learning rate, momentum, and decay parameters.\n",
        "\n",
        "Note: Code is relatively unchanged from tutorial, as it accomplished everything I needed. Minor change to the cehckpoint paths and output names."
      ],
      "metadata": {
        "id": "0m6EKg9as_JB"
      }
    },
    {
      "cell_type": "code",
      "source": [
        "def train(net, dataloader, epochs=1, start_epoch=0, lr=0.01, momentum=0.9, decay=0.0005, \n",
        "          verbose=1, print_every=10, state=None, schedule={}, checkpoint_path=None):\n",
        "  net.to(device)\n",
        "  net.train()\n",
        "  losses = []\n",
        "  criterion = nn.CrossEntropyLoss()\n",
        "  optimizer = optim.SGD(net.parameters(), lr=lr, momentum=momentum, weight_decay=decay)\n",
        "\n",
        "  # Load previous training state\n",
        "  if state:\n",
        "      net.load_state_dict(state['net'])\n",
        "      optimizer.load_state_dict(state['optimizer'])\n",
        "      start_epoch = state['epoch']\n",
        "      losses = state['losses']\n",
        "\n",
        "  # Fast forward lr schedule through already trained epochs\n",
        "  for epoch in range(start_epoch):\n",
        "    if epoch in schedule:\n",
        "      print (\"Learning rate: %f\"% schedule[epoch])\n",
        "      for g in optimizer.param_groups:\n",
        "        g['lr'] = schedule[epoch]\n",
        "\n",
        "  for epoch in range(start_epoch, epochs):\n",
        "    sum_loss = 0.0\n",
        "\n",
        "    # Update learning rate when scheduled\n",
        "    if epoch in schedule:\n",
        "      print (\"Learning rate: %f\"% schedule[epoch])\n",
        "      for g in optimizer.param_groups:\n",
        "        g['lr'] = schedule[epoch]\n",
        "\n",
        "    for i, batch in enumerate(dataloader, 0):\n",
        "        inputs, labels = batch[0].to(device), batch[1].to(device)\n",
        "\n",
        "        optimizer.zero_grad()\n",
        "\n",
        "        outputs = net(inputs)\n",
        "        loss = criterion(outputs, labels)\n",
        "        loss.backward()  # autograd magic, computes all the partial derivatives\n",
        "        optimizer.step() # takes a step in gradient direction\n",
        "\n",
        "        losses.append(loss.item())\n",
        "        sum_loss += loss.item()\n",
        "        \n",
        "        if i % print_every == print_every-1:    # print every 10 mini-batches\n",
        "            if verbose:\n",
        "              print('[%d, %5d] loss: %.3f' % (epoch, i + 1, sum_loss / print_every))\n",
        "            sum_loss = 0.0\n",
        "    if checkpoint_path:\n",
        "      state = {'epoch': epoch+1, 'net': net.state_dict(), 'optimizer': optimizer.state_dict(), 'losses': losses}\n",
        "      torch.save(state, checkpoint_path + 'resNet50Size384/checkpoint-%d.pkl'%(epoch+1))\n",
        "  return losses\n",
        "\n",
        "def smooth(x, size):\n",
        "  return np.convolve(x, np.ones(size)/size, mode='valid')"
      ],
      "metadata": {
        "id": "wQphlPk917Q6"
      },
      "execution_count": 6,
      "outputs": []
    },
    {
      "cell_type": "markdown",
      "source": [
        "# 4) Neural Networks Definitions\n",
        "\n",
        "The real core of the project was to utilize different classification models and ascertain which ones were the most opitmal and give the best results. Every single model is from the Pytorch library, which contains a fairly large set of pretrained models. A major goal of the project was to hit a relatively high accuracy, which meant that I had to find the best models, but they all also had to be able to RUN on my machine.\n",
        "\n"
      ],
      "metadata": {
        "id": "f9QYeTymKnPG"
      }
    },
    {
      "cell_type": "markdown",
      "source": [
        "## 4.1) ResNet18\n",
        "This is the first model I attempted as it was used in the tutorial code. ResNet18 is a 72 layer architecture with 18 deep layers.  "
      ],
      "metadata": {
        "id": "iKoWzbGusfu0"
      }
    },
    {
      "cell_type": "code",
      "source": [
        "resnet18 = torch.hub.load('pytorch/vision:v0.6.0', 'resnet18', pretrained=True)\n",
        "resnet18.fc = nn.Linear(512, 555) # This will reinitialize the layer as well"
      ],
      "metadata": {
        "id": "Gj8PNj_R2NOW",
        "colab": {
          "base_uri": "https://localhost:8080/"
        },
        "outputId": "1d9b87ea-dede-4b04-bba4-90b0ab896408"
      },
      "execution_count": 7,
      "outputs": [
        {
          "output_type": "stream",
          "name": "stderr",
          "text": [
            "Using cache found in C:\\Users\\Arpan/.cache\\torch\\hub\\pytorch_vision_v0.6.0\n"
          ]
        }
      ]
    },
    {
      "cell_type": "markdown",
      "source": [
        "The model performed competitively from the get go, and was not extremely memory intensive. \n",
        "\n",
        "The first iteration was ran on `128x128` inputs with a batch size of 128. It was ran for 10 epochs at a constant learning rate of 0.01. The resulting accuracy when submitted on kaggle was: **64.850%**\n",
        "\n",
        "The second iteration was ran on the same inputs and batch size, but for 10 epochs, with a schedule of = {0: 0.01, 10: 0.005}. The resulting accuracy was: **66.350%**\n",
        "\n",
        "The next iteration was ran on `256x256` inputs with batch size of 128. It ran for 20 epochs, with the following schedule = {0: 0.01, 10: 0.005, 15: 0.001}. The resulting accuracy was: **78.150%**\n",
        "\n",
        "This was a massive jump in accuracy, and was one of the most important discoveries I made during my testing. I went and looked at the data set and checked the dimensions of the pictures present and realized that the dimensions were far larger than the inital `128x128` crops I was making following the tutorial. Every single picture I saw was at least 400x400 in dimension, with most of them being significantly larger. Resizing to such a low picture dimension meant that I was loosing TONS of pixel information, resulting in the network performing much lower. Hence from this point forward, I strictly only used inputs equal to or larger than `256x256`, and made sure all of them were multiples of 32.\n",
        "\n",
        "The last iteration of this network was ran on `384x384` inputs with batch size of 128. ResNet is designed to take images that are multiples of 32. The network ran for 30 epochs, with a schedule of = {0:.01, 5:.005, 10:.001, 20:.0005}. The resuling accuracy was the best so far at: **80.150%**"
      ],
      "metadata": {
        "id": "KTQxzlXxb_lT"
      }
    },
    {
      "cell_type": "code",
      "source": [
        "restNet18_state = torch.load(checkpoints + 'resNet18Size384/checkpoint-15.pkl')\n",
        "plt.plot(smooth(restNet18_state['losses'], 50))"
      ],
      "metadata": {
        "colab": {
          "base_uri": "https://localhost:8080/",
          "height": 282
        },
        "id": "e_MFalWTiENL",
        "outputId": "233baba7-7e67-4aa1-dcbf-1be075ee6c18"
      },
      "execution_count": 8,
      "outputs": [
        {
          "output_type": "execute_result",
          "data": {
            "text/plain": [
              "[<matplotlib.lines.Line2D at 0x21c3e40ff40>]"
            ]
          },
          "metadata": {},
          "execution_count": 8
        },
        {
          "output_type": "display_data",
          "data": {
            "text/plain": [
              "<Figure size 432x288 with 1 Axes>"
            ],
            "image/png": "[encoded data removed]"
          },
          "metadata": {
            "needs_background": "light"
          }
        }
      ]
    },
    {
      "cell_type": "markdown",
      "source": [
        "By the end of the 30th epoch, we have hit a loss rate of around 0.28. \\\n",
        "*Note that this only shows the loss from the 15th to the 30th epoch. I lost the data due to overwrite of the first 15 epochs.*"
      ],
      "metadata": {
        "id": "EAMZxmn2inGK"
      }
    },
    {
      "cell_type": "markdown",
      "source": [
        "## 4.2) ResNet152\n",
        "\n",
        "The second model I attempted, which quickly taught me the reason why GPUs and hardware are so important in computer vision and machine learning. Shoutout $10k GPUs, which always baffled me with their prices. As the name suggests, this model has 152 deep layers."
      ],
      "metadata": {
        "id": "1XsXPn0AHP4Y"
      }
    },
    {
      "cell_type": "code",
      "source": [
        "resnet152 = torch.hub.load('pytorch/vision:v0.6.0', 'resnet152', pretrained=True)\n",
        "resnet152.fc = nn.Linear(2048, 555) # This will reinitialize the layer as well"
      ],
      "metadata": {
        "colab": {
          "base_uri": "https://localhost:8080/"
        },
        "id": "dV7LGls7DMkV",
        "outputId": "a4ab6bb4-5208-4e63-8ddb-35769319d9ef"
      },
      "execution_count": null,
      "outputs": [
        {
          "output_type": "stream",
          "name": "stderr",
          "text": [
            "Using cache found in C:\\Users\\Arpan/.cache\\torch\\hub\\pytorch_vision_v0.6.0\n"
          ]
        }
      ]
    },
    {
      "cell_type": "markdown",
      "source": [
        "This model is without a doubt the most powerful model I attempted to run during my testing. It has one of the lowest top 1% and 5% error rates of any of the models present in torch vision, which immediately attracted me to it. However, I quickly disovered that it's not feasble for me to use with my setup.\n",
        "\n",
        "The first iteration of the model used `128x128` inputs with 128 batch size and ran for 10 epochs with a constant learning rate of 0.01. The resulting accuracy was WORSE than resNet18 at: **63.100%** which initially really confused me. It made no sense why a resNet152, which is objectively a better version of resNet18 would perform worse. However, its important to understand that for models like this which go extremely deep in the layers, the input image needs to be much larger. With 152 deep layers, an input image of `128x128` just won't cut it. \n",
        "\n",
        "So I attempted to raise the input to `256x256` and `384x384`. Unfortunately, both are not possible, as the amount of memory with those inputs, and the 128 batch size are far too much for the 10gb VRAM in my card. Hence I tried to lower the batch size. The only combination I tested which actually ran without crashing due to CUDA out of memory errors was `256x256` with a batch size of 16. Unfortuntely, with such a small batch size, the run time of the code on my set up would be nearly 30 hours before it finished. It was at this point that I dropped resNet152 as a possible network for this project. \n",
        "\n",
        "NOTE: I am confident that had I access to a larger machine with more resources, this network would without a doubt result in the highest accuracy."
      ],
      "metadata": {
        "id": "xRKc2jrRfII9"
      }
    },
    {
      "cell_type": "code",
      "source": [
        "restNet152_state = torch.load(checkpoints + 'resNet152/checkpoint-10.pkl')\n",
        "plt.plot(smooth(restNet152_state['losses'], 50))"
      ],
      "metadata": {
        "colab": {
          "base_uri": "https://localhost:8080/",
          "height": 282
        },
        "id": "tlR-VReci_uq",
        "outputId": "7723df7e-58dc-48fe-8e30-20c971fe2926"
      },
      "execution_count": 9,
      "outputs": [
        {
          "output_type": "execute_result",
          "data": {
            "text/plain": [
              "[<matplotlib.lines.Line2D at 0x21c3e909930>]"
            ]
          },
          "metadata": {},
          "execution_count": 9
        },
        {
          "output_type": "display_data",
          "data": {
            "text/plain": [
              "<Figure size 432x288 with 1 Axes>"
            ],
            "image/png": "[encoded data removed]"
          },
          "metadata": {
            "needs_background": "light"
          }
        }
      ]
    },
    {
      "cell_type": "markdown",
      "source": [
        "By the end of the 10th epoch, we have hit a loss of rougly 0.9."
      ],
      "metadata": {
        "id": "m5su-prljLEd"
      }
    },
    {
      "cell_type": "markdown",
      "source": [
        "## 4.3) DenseNet\n",
        "\n",
        "The third network I attempted to use was densenet161, which is nearly as powerful and competitive with resNet152. However, just like resNet152, I very quickly learned that it was not possible for me to run this network on my set up. If I wanted to run it, the input image size would be too small to get a good accuracy. I never got a full iteration finished with this network because I already understood the end result would be similar to resNet152"
      ],
      "metadata": {
        "id": "66_m-KozIj3o"
      }
    },
    {
      "cell_type": "code",
      "source": [
        "densenet161 = torch.hub.load('pytorch/vision:v0.6.0', 'densenet161', pretrained=True)\n",
        "densenet161.fc = nn.Linear(2048, 555) # This will reinitialize the layer as well"
      ],
      "metadata": {
        "colab": {
          "base_uri": "https://localhost:8080/"
        },
        "id": "vlCsHQ7eIs-V",
        "outputId": "5d1a046f-c974-473b-ddad-575685dbcde5"
      },
      "execution_count": null,
      "outputs": [
        {
          "output_type": "stream",
          "name": "stderr",
          "text": [
            "Using cache found in C:\\Users\\Arpan/.cache\\torch\\hub\\pytorch_vision_v0.6.0\n"
          ]
        }
      ]
    },
    {
      "cell_type": "markdown",
      "source": [
        "## 4.4) ResNet50\n",
        "The fourth network I attempted to use, and by FAR the best of all worlds for my machine. ResNet50 is a power 50 deep layer network, which is not only relatively affordable in terms of memory usable, but very powerful in classifcation."
      ],
      "metadata": {
        "id": "O8sEoZmNRbu0"
      }
    },
    {
      "cell_type": "code",
      "source": [
        "resnet50 = torch.hub.load('pytorch/vision:v0.6.0', 'resnet50', pretrained=True)\n",
        "resnet50.fc = nn.Linear(2048, 555) # This will reinitialize the layer as well"
      ],
      "metadata": {
        "colab": {
          "base_uri": "https://localhost:8080/"
        },
        "id": "lC-Pwv_vRh6A",
        "outputId": "c8a103d6-8580-4564-b25b-2c504e0e0713"
      },
      "execution_count": 4,
      "outputs": [
        {
          "output_type": "stream",
          "name": "stderr",
          "text": [
            "Using cache found in C:\\Users\\Arpan/.cache\\torch\\hub\\pytorch_vision_v0.6.0\n"
          ]
        }
      ]
    },
    {
      "cell_type": "markdown",
      "source": [
        "The first iteration of this network was ran on `288x288` input size images, with a batch of 64. This setup maximized my 10gb VRAM without going over the limit. It ran for 30 epochs, with a schedule of = {0:.01, 5:.005, 10:.001, 20:.0005}. The final accuracy for this iteration was: **85.600%**.\n",
        "\n",
        "The second iteration of this network was ran on `384x384` input size images, with a batch of 32. This setup once again maximize my memory, but also allowed the network to have bigger images to work with when layering. It also ran for 30 epochs, with a schedule of = {0:.01, 5:.005, 10:.001, 20:.0005}. The final accuracy for t his iteration was: **87.100**.\n",
        "\n",
        "After this, I attempted to use bigger resNet model (resNet101) but again ran into memory and time constraints. Hence, instead, I took this same model, and for an extra 20 more epochs, finalizing at 50 epochs for the second iteration. The schedule was = {0:.01, 5:.005, 10:.001, 20:.0005, 35: .0001}. The final accuracy barely went up at all, with it end at: **87.150%**. \n",
        "\n",
        "This was the highest accuracy I could acquire, and it placed me at 1st place on the kaggle leaderboard at the time of this writing, with a 5% lead on second place."
      ],
      "metadata": {
        "id": "GIDBocr_h8N5"
      }
    },
    {
      "cell_type": "code",
      "source": [
        "resNet50_state = torch.load(checkpoints + 'resNet50Size384/checkpoint-50.pkl')\n",
        "plt.plot(smooth(resNet50_state['losses'], 50))"
      ],
      "metadata": {
        "colab": {
          "base_uri": "https://localhost:8080/",
          "height": 282
        },
        "id": "OHNnlYYIk_Zd",
        "outputId": "95ca3a93-4551-48a3-b1ec-e09991c4783f"
      },
      "execution_count": 10,
      "outputs": [
        {
          "output_type": "execute_result",
          "data": {
            "text/plain": [
              "[<matplotlib.lines.Line2D at 0x21c3e7fe2c0>]"
            ]
          },
          "metadata": {},
          "execution_count": 10
        },
        {
          "output_type": "display_data",
          "data": {
            "text/plain": [
              "<Figure size 432x288 with 1 Axes>"
            ],
            "image/png": "[encoded data removed]"
          },
          "metadata": {
            "needs_background": "light"
          }
        }
      ]
    },
    {
      "cell_type": "markdown",
      "source": [
        "The final loss rate hovered around 0.5-0.6 by the end of the model."
      ],
      "metadata": {
        "id": "Yv8n9yrllHjQ"
      }
    },
    {
      "cell_type": "markdown",
      "source": [
        "## 4.5 ResNet101\n",
        "\n",
        "As mentioned above, resNet101 was another model I tried as a means of upping the accuracy from resNet50, since this model has double the deep layers. However, like resNet152 and denseNet161, this model requires far too many resources and time for me to be able to feaseably run."
      ],
      "metadata": {
        "id": "ONG2Hv1ClpuU"
      }
    },
    {
      "cell_type": "code",
      "source": [
        "resnet101 = torch.hub.load('pytorch/vision:v0.6.0', 'resnet101', pretrained=True)\n",
        "resnet101.fc = nn.Linear(2048, 555) # This will reinitialize the layer as well"
      ],
      "metadata": {
        "colab": {
          "base_uri": "https://localhost:8080/"
        },
        "id": "7b0Obcuxlsaf",
        "outputId": "46a86282-b944-4539-9d8e-2d3c16910fab"
      },
      "execution_count": null,
      "outputs": [
        {
          "output_type": "stream",
          "name": "stderr",
          "text": [
            "Using cache found in C:\\Users\\Arpan/.cache\\torch\\hub\\pytorch_vision_v0.6.0\n"
          ]
        }
      ]
    },
    {
      "cell_type": "markdown",
      "source": [
        "## 4.6) VGG 19\n",
        "The final model I attempted was the VGG 19 network. This is yet another powerful network with a top 1% error of 27.62 and top 5% error of 9.125%. It's essentially a middle ground between resNet18 and resNet50 in terms of error percentage, however the memory usage is too high for the improvement in quality. It's just better to use resNet50."
      ],
      "metadata": {
        "id": "SFTj5o5J6bjC"
      }
    },
    {
      "cell_type": "code",
      "source": [
        "vgg19 = torch.hub.load('pytorch/vision:v0.6.0', 'vgg19', pretrained=True)\n",
        "vgg19.fc = nn.Linear(512, 555) # This will reinitialize the layer as well"
      ],
      "metadata": {
        "colab": {
          "base_uri": "https://localhost:8080/"
        },
        "id": "J44TG8nX6eih",
        "outputId": "440754c8-81fc-4a8a-88f8-babbd084c97a"
      },
      "execution_count": null,
      "outputs": [
        {
          "output_type": "stream",
          "name": "stderr",
          "text": [
            "Using cache found in C:\\Users\\Arpan/.cache\\torch\\hub\\pytorch_vision_v0.6.0\n"
          ]
        }
      ]
    },
    {
      "cell_type": "markdown",
      "source": [
        "The first and only iteration of this model that I ran was on `256x256` size input images, with batch of 32. This is probably the main reason why the final accuracy fell short of resNet18 as I was forced to use lower resolution images to fit the model in the GPU. The network ran for 30 epochs, with a schedule of = {0:.01, 5:.005, 10:.001, 20:.0005}. The final accuracy was: **73.900%**, which well within my expectations."
      ],
      "metadata": {
        "id": "nn0LXH2Zl900"
      }
    },
    {
      "cell_type": "code",
      "source": [
        "vgg19_state = torch.load(checkpoints + 'vgg19Size256/checkpoint-30.pkl')\n",
        "plt.plot(smooth(vgg19_state['losses'], 50))"
      ],
      "metadata": {
        "colab": {
          "base_uri": "https://localhost:8080/",
          "height": 282
        },
        "id": "sFRCC0I-maI5",
        "outputId": "5c8dfaf1-99e9-419f-9871-9de4ae281cba"
      },
      "execution_count": 11,
      "outputs": [
        {
          "output_type": "execute_result",
          "data": {
            "text/plain": [
              "[<matplotlib.lines.Line2D at 0x21c3e9b7070>]"
            ]
          },
          "metadata": {},
          "execution_count": 11
        },
        {
          "output_type": "display_data",
          "data": {
            "text/plain": [
              "<Figure size 432x288 with 1 Axes>"
            ],
            "image/png": "[encoded data removed]"
          },
          "metadata": {
            "needs_background": "light"
          }
        }
      ]
    },
    {
      "cell_type": "markdown",
      "source": [
        "Final loss rate hovered around 0.6"
      ],
      "metadata": {
        "id": "-gzQE_GVmkOR"
      }
    },
    {
      "cell_type": "markdown",
      "source": [
        "## 4.7) Running Training \n",
        "\n",
        "The following were the training commands used to run the train code on each of the models."
      ],
      "metadata": {
        "id": "wFM8jleLs61o"
      }
    },
    {
      "cell_type": "markdown",
      "source": [
        "Run ResNet18 for 30 epochs\n",
        "\n"
      ],
      "metadata": {
        "id": "iGwi3cm-IZJK"
      }
    },
    {
      "cell_type": "code",
      "source": [
        "resNet18_losses = train(resnet18, data['train'], epochs=30, schedule={0:.01, 5:.005, 10:.001, 20:.0005}, lr=.01, print_every=10, checkpoint_path=checkpoints)"
      ],
      "metadata": {
        "id": "ktWsrErtIfRB"
      },
      "execution_count": null,
      "outputs": []
    },
    {
      "cell_type": "markdown",
      "source": [
        "Run ResNet50 for 30 epochs"
      ],
      "metadata": {
        "id": "I3Uvk9Q2nFPh"
      }
    },
    {
      "cell_type": "code",
      "source": [
        "resNet50_losses = train(resnet50, data['train'], epochs=50, schedule={0:.01, 5:.005, 10:.001, 20:.0005}, lr=.01, print_every=10, checkpoint_path=checkpoints)"
      ],
      "metadata": {
        "id": "dHlfR-yYnHsa"
      },
      "execution_count": null,
      "outputs": []
    },
    {
      "cell_type": "markdown",
      "source": [
        "Run ResNet50 for 50 epochs by using a pretrained resNet50 which had already trained 30 epochs."
      ],
      "metadata": {
        "id": "eGEOLXPJRxlm"
      }
    },
    {
      "cell_type": "code",
      "source": [
        "resNet50_state = torch.load(checkpoints + 'resNet50Size384/checkpoint-30.pkl')\n",
        "resnet50.load_state_dict(resNet50_state['net'])\n",
        "resNet50_losses = train(resnet50, data['train'], epochs=50, schedule={0:.01, 5:.005, 10:.001, 20:.0005, 35: .0001}, lr=.01, print_every=10, checkpoint_path=checkpoints, state=resNet50_state)"
      ],
      "metadata": {
        "id": "WUTmb1VWRzdU"
      },
      "execution_count": null,
      "outputs": []
    },
    {
      "cell_type": "markdown",
      "source": [
        "Run ResNet101 for 30 epochs "
      ],
      "metadata": {
        "id": "ecPcO7g_l0Fy"
      }
    },
    {
      "cell_type": "code",
      "source": [
        "resnet101_losses = train(resnet101, data['train'], epochs=30, schedule={0:.01, 5:.005, 10:.001, 20:.0005}, lr=.01, print_every=10, checkpoint_path=checkpoints)"
      ],
      "metadata": {
        "id": "SbDvg1iTl2-J"
      },
      "execution_count": null,
      "outputs": []
    },
    {
      "cell_type": "markdown",
      "source": [
        "Run ResNet152 for 30 epochs"
      ],
      "metadata": {
        "id": "DhQX4pyFyTan"
      }
    },
    {
      "cell_type": "code",
      "source": [
        "resNet152_losses = train(resnet152, data['train'], epochs=30, schedule={0:.01, 5:.005, 10:.001, 20:.0005}, lr=.01, print_every=10, checkpoint_path=checkpoints)"
      ],
      "metadata": {
        "id": "u7kAsNEjsorI"
      },
      "execution_count": null,
      "outputs": []
    },
    {
      "cell_type": "markdown",
      "source": [
        "Run DenseNet for 10 epochs with .01 learning rate"
      ],
      "metadata": {
        "id": "k0b2-kmX-Cyd"
      }
    },
    {
      "cell_type": "code",
      "source": [
        "densenet161_losses = train(densenet161, data['train'], epochs=30, schedule={0:.01, 5:.005, 10:.001, 20:.0005}, lr=.01, print_every=10, checkpoint_path=checkpoints)"
      ],
      "metadata": {
        "id": "P-bmLbYL6Ci-"
      },
      "execution_count": null,
      "outputs": []
    },
    {
      "cell_type": "markdown",
      "source": [
        "Run VGG 19 for 30 epochs"
      ],
      "metadata": {
        "id": "9xwYZi116vPx"
      }
    },
    {
      "cell_type": "code",
      "source": [
        "vgg19_losses = train(vgg19, data['train'], epochs=30, schedule={0:.01, 5:.005, 10:.001, 20:.0005}, lr=.01, print_every=10, checkpoint_path=checkpoints)"
      ],
      "metadata": {
        "id": "WAW__ERE6xgg"
      },
      "execution_count": null,
      "outputs": []
    },
    {
      "cell_type": "markdown",
      "source": [
        "# 5) Predictions \n",
        "\n",
        "This code is taken directly from the tutorial but modifed to work for a windows OS and my paths. Specifically, the split command needed to be edited for windows OS. Each of the predict calls after the definition show the last prediction run by me for a given model."
      ],
      "metadata": {
        "id": "Cv0UTbQ1xg-7"
      }
    },
    {
      "cell_type": "code",
      "source": [
        "def predict(net, dataloader, ofname):\n",
        "    out = open(ofname, 'w')\n",
        "    out.write(\"path,class\\n\")\n",
        "    net.to(device)\n",
        "    net.eval()\n",
        "    correct = 0\n",
        "    total = 0\n",
        "    with torch.no_grad():\n",
        "        for i, (images, labels) in enumerate(dataloader, 0):\n",
        "            if i%100 == 0:\n",
        "                print(i)\n",
        "            images, labels = images.to(device), labels.to(device)\n",
        "            outputs = net(images)\n",
        "            _, predicted = torch.max(outputs.data, 1)\n",
        "            fname, _ = dataloader.dataset.samples[i]\n",
        "            out.write(\"test/{},{}\\n\".format(fname.split('\\\\')[-1], data['to_class'][predicted.item()]))\n",
        "    out.close()"
      ],
      "metadata": {
        "id": "wT6yEz_UBqeq"
      },
      "execution_count": 13,
      "outputs": []
    },
    {
      "cell_type": "markdown",
      "source": [
        "### 5.1) ResNet18 Prediction"
      ],
      "metadata": {
        "id": "1v2LTj852zRG"
      }
    },
    {
      "cell_type": "code",
      "source": [
        "# Note that checkpoint 15 is = to epoch 30 because of overwrite\n",
        "restNet18_state = torch.load(checkpoints + 'resNet18Size384/checkpoint-15.pkl')\n",
        "resnet18.load_state_dict(restNet18_state['net'])\n",
        "predict(resnet18, data['test'], checkpoints + \"resNet18Size384With30Epochs.csv\")"
      ],
      "metadata": {
        "id": "vx1Js5giEBQQ"
      },
      "execution_count": null,
      "outputs": []
    },
    {
      "cell_type": "markdown",
      "source": [
        "### 5.2) ResNet50 Prediction"
      ],
      "metadata": {
        "id": "DfQnEmEY7wUL"
      }
    },
    {
      "cell_type": "code",
      "source": [
        "resNet50_state = torch.load(checkpoints + 'resNet50Size384/checkpoint-50.pkl')\n",
        "resnet50.load_state_dict(resNet50_state['net'])\n",
        "predict(resnet50, data['test'], checkpoints + \"resNet50Size384With50Epochs32Batch.csv\")"
      ],
      "metadata": {
        "id": "pKa-tk-v7vee"
      },
      "execution_count": null,
      "outputs": []
    },
    {
      "cell_type": "markdown",
      "source": [
        "### 5.2) ResNet152 Prediction"
      ],
      "metadata": {
        "id": "Lt5qfQP2fKjo"
      }
    },
    {
      "cell_type": "code",
      "source": [
        "resnet152_state = torch.load(checkpoints + 'resNet152/checkpoint-10.pkl')\n",
        "resnet152.load_state_dict(resnet152_state['net'])\n",
        "predict(resnet152, data['test'], checkpoints + \"resNet18Base.csv\")"
      ],
      "metadata": {
        "id": "R7qF-3V6Nx-J"
      },
      "execution_count": null,
      "outputs": []
    },
    {
      "cell_type": "markdown",
      "source": [
        "### 5.4) VGG Prediction\n"
      ],
      "metadata": {
        "id": "3gMXQ6o1hHZ9"
      }
    },
    {
      "cell_type": "code",
      "source": [
        "vgg19_state = torch.load(checkpoints + 'vgg19Size256/checkpoint-30.pkl')\n",
        "vgg19.load_state_dict(vgg19_state['net'])\n",
        "predict(vgg19, data['test'], checkpoints + \"vgg19Size256With30EpochsWith32Batch.csv\")"
      ],
      "metadata": {
        "id": "Jj-KnCw6hLJ8"
      },
      "execution_count": null,
      "outputs": []
    },
    {
      "cell_type": "markdown",
      "source": [
        "#6) Conclusion \n",
        "\n",
        "In conclusion, I have spent nearly 60 hours on setting up, compiling, researching, training, and testing all of these models. \n",
        "\n",
        "The single most important aspect which influenced the accuracy of every single model was the input image size. As stated before, it makes total sense that resizing large images like the ones present in this data set to smaller versions results in a lot of pixel information being lost, which would otherwise help the model differentiate it from other pictures. So the larger the image, the better the model does. It's important to not that all of these models are designed to be run on larger images, espeically the higher renditions of resNet. However, I also learned that hardware limitations are very prevalent in computer vision and machine learning in general. Higher image sizes means a massive jump in required memory, so you have to be smart about the sizes you use. You must get the best out of the model, but also be able to run it! Lower the batch size allows you to run code, but increases the time complexity. A 64 batch runs 2x as slow as a 128 batch, and dropping down to 16 runs 8x slower than 128 batch. \\\n",
        "\n",
        "Overall, I think my accuracy percentage came out pretty high as I am currently first place on the leaderboard. Unfortunately I did not hit the accuracy I orignally wanted, which I stated in the project proposal as 90% but I came close and I am positve I would be able to hit it with my currently knowledge. The only thing holding me back is the hardware. For example, if I was able to run resNet152 or resNet101 for that matter on 384x384 input size with batch 32, I would most likely hit 90% if not above. \\\n",
        "\n",
        "Perhaps a system reliant on TPU computing instead of GPU computing would have been the better choice, however prior to starting the work in this project, I did not understand just how valuable computing power would be for CV. I have one of the best gaming PCs on the market you can build, and I never thought that my GPU wouldn't be enough to run the things I needed. It's eye opening."
      ],
      "metadata": {
        "id": "5mATiHeRoW48"
      }
    },
    {
      "cell_type": "markdown",
      "source": [
        "## 6.1) Best Results Table\n",
        "This table consists of the best results for each of the 6 models I tested. DenseNet and resNet101 are left with x's because I never got a complete run with them, but I tried very many different combinations of input image and batch size to see if I could make it work.\n",
        "\n",
        "| Model | InputSize | Batch Size | Epochs | Accuracy |\n",
        "| - | - | - | - | - |\n",
        "| resNet18 | 384x384 |  128 | 30 | 80.95% |\n",
        "| resNet50 | 384x384 |  32 | 50 | 87.15% |\n",
        "| resNet101 | x |  x | x | x | \n",
        "| resNet152 | 128X128 |  128 | 10 | 63.10% |\n",
        "| densenet161 | x |  x | x | x |\n",
        "| vgg19 | 256X256 |  32 | 30 | 73.90% |"
      ],
      "metadata": {
        "id": "iE_w2VqkpdmL"
      }
    },
    {
      "cell_type": "code",
      "source": [
        ""
      ],
      "metadata": {
        "id": "TzP7Vwgbs1yl"
      },
      "execution_count": null,
      "outputs": []
    }
  ]
}
